{
 "cells": [
  {
   "cell_type": "code",
   "execution_count": 2,
   "metadata": {},
   "outputs": [
    {
     "data": {
      "text/html": [
       "<div>\n",
       "<style scoped>\n",
       "    .dataframe tbody tr th:only-of-type {\n",
       "        vertical-align: middle;\n",
       "    }\n",
       "\n",
       "    .dataframe tbody tr th {\n",
       "        vertical-align: top;\n",
       "    }\n",
       "\n",
       "    .dataframe thead th {\n",
       "        text-align: right;\n",
       "    }\n",
       "</style>\n",
       "<table border=\"1\" class=\"dataframe\">\n",
       "  <thead>\n",
       "    <tr style=\"text-align: right;\">\n",
       "      <th></th>\n",
       "      <th>Country (region)</th>\n",
       "      <th>Ladder</th>\n",
       "      <th>SD of Ladder</th>\n",
       "      <th>Positive affect</th>\n",
       "      <th>Negative affect</th>\n",
       "      <th>Social support</th>\n",
       "      <th>Freedom</th>\n",
       "      <th>Corruption</th>\n",
       "      <th>Generosity</th>\n",
       "      <th>Log of GDP\\nper capita</th>\n",
       "      <th>Healthy life\\nexpectancy</th>\n",
       "    </tr>\n",
       "  </thead>\n",
       "  <tbody>\n",
       "    <tr>\n",
       "      <th>0</th>\n",
       "      <td>Finland</td>\n",
       "      <td>1</td>\n",
       "      <td>4</td>\n",
       "      <td>41.0</td>\n",
       "      <td>10.0</td>\n",
       "      <td>2.0</td>\n",
       "      <td>5.0</td>\n",
       "      <td>4.0</td>\n",
       "      <td>47.0</td>\n",
       "      <td>22.0</td>\n",
       "      <td>27.0</td>\n",
       "    </tr>\n",
       "    <tr>\n",
       "      <th>1</th>\n",
       "      <td>Denmark</td>\n",
       "      <td>2</td>\n",
       "      <td>13</td>\n",
       "      <td>24.0</td>\n",
       "      <td>26.0</td>\n",
       "      <td>4.0</td>\n",
       "      <td>6.0</td>\n",
       "      <td>3.0</td>\n",
       "      <td>22.0</td>\n",
       "      <td>14.0</td>\n",
       "      <td>23.0</td>\n",
       "    </tr>\n",
       "    <tr>\n",
       "      <th>2</th>\n",
       "      <td>Norway</td>\n",
       "      <td>3</td>\n",
       "      <td>8</td>\n",
       "      <td>16.0</td>\n",
       "      <td>29.0</td>\n",
       "      <td>3.0</td>\n",
       "      <td>3.0</td>\n",
       "      <td>8.0</td>\n",
       "      <td>11.0</td>\n",
       "      <td>7.0</td>\n",
       "      <td>12.0</td>\n",
       "    </tr>\n",
       "    <tr>\n",
       "      <th>3</th>\n",
       "      <td>Iceland</td>\n",
       "      <td>4</td>\n",
       "      <td>9</td>\n",
       "      <td>3.0</td>\n",
       "      <td>3.0</td>\n",
       "      <td>1.0</td>\n",
       "      <td>7.0</td>\n",
       "      <td>45.0</td>\n",
       "      <td>3.0</td>\n",
       "      <td>15.0</td>\n",
       "      <td>13.0</td>\n",
       "    </tr>\n",
       "    <tr>\n",
       "      <th>4</th>\n",
       "      <td>Netherlands</td>\n",
       "      <td>5</td>\n",
       "      <td>1</td>\n",
       "      <td>12.0</td>\n",
       "      <td>25.0</td>\n",
       "      <td>15.0</td>\n",
       "      <td>19.0</td>\n",
       "      <td>12.0</td>\n",
       "      <td>7.0</td>\n",
       "      <td>12.0</td>\n",
       "      <td>18.0</td>\n",
       "    </tr>\n",
       "  </tbody>\n",
       "</table>\n",
       "</div>"
      ],
      "text/plain": [
       "  Country (region)  Ladder  SD of Ladder  Positive affect  Negative affect  \\\n",
       "0          Finland       1             4             41.0             10.0   \n",
       "1          Denmark       2            13             24.0             26.0   \n",
       "2           Norway       3             8             16.0             29.0   \n",
       "3          Iceland       4             9              3.0              3.0   \n",
       "4      Netherlands       5             1             12.0             25.0   \n",
       "\n",
       "   Social support  Freedom  Corruption  Generosity  Log of GDP\\nper capita  \\\n",
       "0             2.0      5.0         4.0        47.0                    22.0   \n",
       "1             4.0      6.0         3.0        22.0                    14.0   \n",
       "2             3.0      3.0         8.0        11.0                     7.0   \n",
       "3             1.0      7.0        45.0         3.0                    15.0   \n",
       "4            15.0     19.0        12.0         7.0                    12.0   \n",
       "\n",
       "   Healthy life\\nexpectancy  \n",
       "0                      27.0  \n",
       "1                      23.0  \n",
       "2                      12.0  \n",
       "3                      13.0  \n",
       "4                      18.0  "
      ]
     },
     "execution_count": 2,
     "metadata": {},
     "output_type": "execute_result"
    }
   ],
   "source": [
    "# In this project, we will use the world happiness report to try to work out what contributes most to \n",
    "# happiness in the happiest countries\n",
    "\n",
    "# Import libraries and read in the data\n",
    "import pandas as pd\n",
    "import numpy as np\n",
    "import matplotlib.pyplot as plt\n",
    "import seaborn as sns\n",
    "happy = pd.read_csv(\"C:\\\\Users\\\\user\\\\Desktop\\\\Data\\\\Happiness.csv\")\n",
    "happy.head()"
   ]
  },
  {
   "cell_type": "code",
   "execution_count": 3,
   "metadata": {},
   "outputs": [
    {
     "name": "stdout",
     "output_type": "stream",
     "text": [
      "<class 'pandas.core.frame.DataFrame'>\n",
      "RangeIndex: 156 entries, 0 to 155\n",
      "Data columns (total 11 columns):\n",
      " #   Column                   Non-Null Count  Dtype  \n",
      "---  ------                   --------------  -----  \n",
      " 0   Country (region)         156 non-null    object \n",
      " 1   Ladder                   156 non-null    int64  \n",
      " 2   SD of Ladder             156 non-null    int64  \n",
      " 3   Positive affect          155 non-null    float64\n",
      " 4   Negative affect          155 non-null    float64\n",
      " 5   Social support           155 non-null    float64\n",
      " 6   Freedom                  155 non-null    float64\n",
      " 7   Corruption               148 non-null    float64\n",
      " 8   Generosity               155 non-null    float64\n",
      " 9   Log of GDP\n",
      "per capita    152 non-null    float64\n",
      " 10  Healthy life\n",
      "expectancy  150 non-null    float64\n",
      "dtypes: float64(8), int64(2), object(1)\n",
      "memory usage: 13.5+ KB\n"
     ]
    }
   ],
   "source": [
    "# Let's inspect the dataset for null values\n",
    "happy.info()"
   ]
  },
  {
   "cell_type": "code",
   "execution_count": 4,
   "metadata": {},
   "outputs": [
    {
     "name": "stdout",
     "output_type": "stream",
     "text": [
      "            Country (region)  Ladder  SD of Ladder  Positive affect  \\\n",
      "20      United Arab Emirates      21            65             43.0   \n",
      "24                    Taiwan      25            37             17.0   \n",
      "27              Saudi Arabia      28            93             49.0   \n",
      "28                     Qatar      29            86              NaN   \n",
      "36                   Bahrain      37            83             39.0   \n",
      "45                    Kosovo      46           107             71.0   \n",
      "50                    Kuwait      51            98             89.0   \n",
      "63           Northern Cyprus      64            35            144.0   \n",
      "75                 Hong Kong      76            33            105.0   \n",
      "86              Turkmenistan      87             2            135.0   \n",
      "92                     China      93            72             21.0   \n",
      "100                   Jordan     101           127            112.0   \n",
      "109  Palestinian Territories     110           110            128.0   \n",
      "111                  Somalia     112            74              2.0   \n",
      "134                Swaziland     135           104             26.0   \n",
      "148                    Syria     149           137            155.0   \n",
      "\n",
      "     Negative affect  Social support  Freedom  Corruption  Generosity  \\\n",
      "20              56.0            72.0      4.0         NaN        15.0   \n",
      "24               1.0            48.0    102.0        56.0        56.0   \n",
      "27              82.0            62.0     68.0         NaN        82.0   \n",
      "28               NaN             NaN      NaN         NaN         NaN   \n",
      "36              83.0            59.0     24.0         NaN        23.0   \n",
      "45               7.0            85.0     50.0       144.0        31.0   \n",
      "50              97.0            69.0     47.0         NaN        42.0   \n",
      "63              90.0            81.0     77.0        29.0        43.0   \n",
      "75              28.0            76.0     66.0        14.0        18.0   \n",
      "86              63.0             8.0     83.0         NaN        33.0   \n",
      "92              11.0           108.0     31.0         NaN       133.0   \n",
      "100            120.0            88.0     88.0         NaN       118.0   \n",
      "109            140.0            82.0    134.0        90.0       147.0   \n",
      "111             18.0           145.0     14.0        16.0        96.0   \n",
      "134             57.0           103.0    113.0        41.0       145.0   \n",
      "148            155.0           154.0    153.0        38.0        69.0   \n",
      "\n",
      "     Log of GDP\\nper capita  Healthy life\\nexpectancy  \n",
      "20                      4.0                      60.0  \n",
      "24                      NaN                       NaN  \n",
      "27                     11.0                      74.0  \n",
      "28                      1.0                      43.0  \n",
      "36                     20.0                      42.0  \n",
      "45                     88.0                       NaN  \n",
      "50                      5.0                      70.0  \n",
      "63                      NaN                       NaN  \n",
      "75                      9.0                       NaN  \n",
      "86                     60.0                     100.0  \n",
      "92                     68.0                      34.0  \n",
      "100                    92.0                      63.0  \n",
      "109                   112.0                       NaN  \n",
      "111                     NaN                     144.0  \n",
      "134                    96.0                       NaN  \n",
      "148                     NaN                     128.0  \n"
     ]
    }
   ],
   "source": [
    "# We do have some missing values - 8 in the corruption column and one in all of the others apart from\n",
    "# standard deviation, the ranking and the country. Let's see where the missing values are\n",
    "print(happy[happy.isna().any(axis=1)])\n",
    "\n"
   ]
  },
  {
   "cell_type": "code",
   "execution_count": 5,
   "metadata": {},
   "outputs": [],
   "source": [
    "# For one country, Qatar, we have very few values, and so we should drop this one altogether\n",
    "happy.drop([28], inplace=True)"
   ]
  },
  {
   "cell_type": "code",
   "execution_count": 6,
   "metadata": {},
   "outputs": [],
   "source": [
    "# For the other rows with null values, we can replace them with the mean for that column \n",
    "happy.fillna(happy.mean(), inplace=True)"
   ]
  },
  {
   "cell_type": "code",
   "execution_count": 7,
   "metadata": {},
   "outputs": [
    {
     "name": "stdout",
     "output_type": "stream",
     "text": [
      "<class 'pandas.core.frame.DataFrame'>\n",
      "Int64Index: 155 entries, 0 to 155\n",
      "Data columns (total 11 columns):\n",
      " #   Column                   Non-Null Count  Dtype  \n",
      "---  ------                   --------------  -----  \n",
      " 0   Country (region)         155 non-null    object \n",
      " 1   Ladder                   155 non-null    int64  \n",
      " 2   SD of Ladder             155 non-null    int64  \n",
      " 3   Positive affect          155 non-null    float64\n",
      " 4   Negative affect          155 non-null    float64\n",
      " 5   Social support           155 non-null    float64\n",
      " 6   Freedom                  155 non-null    float64\n",
      " 7   Corruption               155 non-null    float64\n",
      " 8   Generosity               155 non-null    float64\n",
      " 9   Log of GDP\n",
      "per capita    155 non-null    float64\n",
      " 10  Healthy life\n",
      "expectancy  155 non-null    float64\n",
      "dtypes: float64(8), int64(2), object(1)\n",
      "memory usage: 14.5+ KB\n"
     ]
    }
   ],
   "source": [
    "happy.info() # Check that we now have no null values"
   ]
  },
  {
   "cell_type": "code",
   "execution_count": 9,
   "metadata": {},
   "outputs": [
    {
     "name": "stdout",
     "output_type": "stream",
     "text": [
      "count            155\n",
      "unique           155\n",
      "top       Kazakhstan\n",
      "freq               1\n",
      "Name: Country (region), dtype: object\n",
      "count    155.000000\n",
      "mean      78.819355\n",
      "std       45.146870\n",
      "min        1.000000\n",
      "25%       40.500000\n",
      "50%       79.000000\n",
      "75%      117.500000\n",
      "max      156.000000\n",
      "Name: Ladder, dtype: float64\n",
      "count    155.000000\n",
      "mean      78.451613\n",
      "std       45.319815\n",
      "min        1.000000\n",
      "25%       39.500000\n",
      "50%       78.000000\n",
      "75%      117.500000\n",
      "max      156.000000\n",
      "Name: SD of Ladder, dtype: float64\n",
      "count    155.000000\n",
      "mean      78.000000\n",
      "std       44.888751\n",
      "min        1.000000\n",
      "25%       39.500000\n",
      "50%       78.000000\n",
      "75%      116.500000\n",
      "max      155.000000\n",
      "Name: Positive affect, dtype: float64\n",
      "count    155.000000\n",
      "mean      78.000000\n",
      "std       44.888751\n",
      "min        1.000000\n",
      "25%       39.500000\n",
      "50%       78.000000\n",
      "75%      116.500000\n",
      "max      155.000000\n",
      "Name: Negative affect, dtype: float64\n",
      "count    155.000000\n",
      "mean      78.000000\n",
      "std       44.888751\n",
      "min        1.000000\n",
      "25%       39.500000\n",
      "50%       78.000000\n",
      "75%      116.500000\n",
      "max      155.000000\n",
      "Name: Social support, dtype: float64\n",
      "count    155.000000\n",
      "mean      78.000000\n",
      "std       44.888751\n",
      "min        1.000000\n",
      "25%       39.500000\n",
      "50%       78.000000\n",
      "75%      116.500000\n",
      "max      155.000000\n",
      "Name: Freedom, dtype: float64\n",
      "count    155.000000\n",
      "mean      74.500000\n",
      "std       41.882411\n",
      "min        1.000000\n",
      "25%       39.500000\n",
      "50%       74.500000\n",
      "75%      109.500000\n",
      "max      148.000000\n",
      "Name: Corruption, dtype: float64\n",
      "count    155.000000\n",
      "mean      78.000000\n",
      "std       44.888751\n",
      "min        1.000000\n",
      "25%       39.500000\n",
      "50%       78.000000\n",
      "75%      116.500000\n",
      "max      155.000000\n",
      "Name: Generosity, dtype: float64\n",
      "count    155.000000\n",
      "mean      77.000000\n",
      "std       43.162333\n",
      "min        2.000000\n",
      "25%       40.500000\n",
      "50%       77.000000\n",
      "75%      113.500000\n",
      "max      152.000000\n",
      "Name: Log of GDP\\nper capita, dtype: float64\n",
      "count    155.000000\n",
      "mean      75.718121\n",
      "std       42.653402\n",
      "min        1.000000\n",
      "25%       39.500000\n",
      "50%       75.718121\n",
      "75%      111.500000\n",
      "max      150.000000\n",
      "Name: Healthy life\\nexpectancy, dtype: float64\n"
     ]
    }
   ],
   "source": [
    "# We can now inspect the columns to see what each of them contain\n",
    "for column in happy.columns:\n",
    "    print(happy[column].describe())"
   ]
  },
  {
   "cell_type": "code",
   "execution_count": 10,
   "metadata": {},
   "outputs": [
    {
     "data": {
      "text/plain": [
       "<matplotlib.axes._subplots.AxesSubplot at 0x14d4eeb1c50>"
      ]
     },
     "execution_count": 10,
     "metadata": {},
     "output_type": "execute_result"
    },
    {
     "data": {
      "image/png": "[encoded data removed]",
      "text/plain": [
       "<Figure size 720x720 with 2 Axes>"
      ]
     },
     "metadata": {
      "needs_background": "light"
     },
     "output_type": "display_data"
    }
   ],
   "source": [
    "# We can see that from the similarties between the columns (apart from the name of the country) that\n",
    "# what we have in each columns is the numbers 1-155 (or so), i.e. a ranking for each country, relative\n",
    "# to the other countries, for how \"well\" they did on that measure.\n",
    "\n",
    "# Let's see, then, what correlations we can find between these features, and what that might\n",
    "# reveal about those countries\n",
    "plt.figure(figsize=(10,10))\n",
    "sns.heatmap(happy.corr(), cmap=\"coolwarm\", annot=True)"
   ]
  },
  {
   "cell_type": "code",
   "execution_count": 26,
   "metadata": {},
   "outputs": [
    {
     "name": "stdout",
     "output_type": "stream",
     "text": [
      "0.893591236811228\n"
     ]
    }
   ],
   "source": [
    "# Strong correlations with \"Ladder\" mean the correlation between the importance of a certain feature\n",
    "# to the happiness of the country and that country's overall position. The fact that these aren't all\n",
    "# equal suggests that certain features are better indicators of overall happiness than others. The three\n",
    "# most important, it would seem, are GDP per capita, healthy life expectancy and social support\n",
    "\n",
    "# Given these correlations, we would hope to be able to predict quite accurately the relative happiness\n",
    "# of a given country with just those three features. Let's see if we can using simple linear regression\n",
    "from sklearn.linear_model import LinearRegression\n",
    "from sklearn.model_selection import train_test_split\n",
    "from sklearn.metrics import mean_squared_error\n",
    "features = [\"Social support\", \"Log of GDP\\nper capita\", \"Healthy life\\nexpectancy\"]\n",
    "x = happy[features]\n",
    "y = happy[\"Ladder\"]\n",
    "lr = LinearRegression()\n",
    "x_train, x_test, y_train, y_test = train_test_split(x, y, test_size=0.1, random_state=1)\n",
    "lr.fit(x_train, y_train)\n",
    "print(lr.score(x_test,y_test))\n"
   ]
  },
  {
   "cell_type": "code",
   "execution_count": 29,
   "metadata": {},
   "outputs": [
    {
     "name": "stdout",
     "output_type": "stream",
     "text": [
      "138.4\n",
      "125.2\n",
      "126.2\n"
     ]
    }
   ],
   "source": [
    "# This is a pretty good score, and suggests that we can effectively predict the overall ranking of \n",
    "# a country using those three features\n",
    "\n",
    "# We might expect, then, that the least happy countries would score lowly for these features. Let's\n",
    "# see:\n",
    "bottom_10 = happy[-10:]\n",
    "for feature in features:\n",
    "    average_position = bottom_10[feature].mean()\n",
    "    print(average_position)"
   ]
  },
  {
   "cell_type": "code",
   "execution_count": 30,
   "metadata": {},
   "outputs": [
    {
     "name": "stdout",
     "output_type": "stream",
     "text": [
      "111.8\n",
      "64.2\n",
      "97.7\n"
     ]
    }
   ],
   "source": [
    "# So the average positions for social support, GDP per capita and healthy life expectancy were all low\n",
    "# What about the other columns?\n",
    "other_columns = [\"Freedom\", \"Corruption\", \"Generosity\"]\n",
    "for column in other_columns:\n",
    "    print(bottom_10[column].mean())"
   ]
  },
  {
   "cell_type": "code",
   "execution_count": 31,
   "metadata": {},
   "outputs": [
    {
     "name": "stdout",
     "output_type": "stream",
     "text": [
      "Social support  average position:  11.9\n",
      "Log of GDP\n",
      "per capita  average position:  15.2\n",
      "Healthy life\n",
      "expectancy  average position:  15.1\n",
      "Freedom  average position:  10.4\n",
      "Corruption  average position:  12.0\n",
      "Generosity  average position:  17.0\n"
     ]
    }
   ],
   "source": [
    "# These figures are, on average, quite a lot lower, which suggests that, in the worse off countries,\n",
    "# the key things they are missing (as perceived by the people) are wealth (GDP), health (life expectancy)\n",
    "# and support from government (social support)\n",
    "\n",
    "# Conversely, what can we learn by looking at the happiest countries? Let's make a top_10 dataframe\n",
    "# and explore it\n",
    "top_10 = happy[:10]\n",
    "features = [\"Social support\", \"Log of GDP\\nper capita\", \"Healthy life\\nexpectancy\", \"Freedom\", \"Corruption\", \"Generosity\"]\n",
    "for feature in features:\n",
    "    print(str(feature), \" average position: \", top_10[feature].mean())"
   ]
  },
  {
   "cell_type": "code",
   "execution_count": null,
   "metadata": {},
   "outputs": [],
   "source": [
    "# In the top_10, then, life satisfaction (relative to those in other countries) relates more to freedom,\n",
    "# social support and a lack of corruption than other features."
   ]
  }
 ],
 "metadata": {
  "kernelspec": {
   "display_name": "Python 3",
   "language": "python",
   "name": "python3"
  },
  "language_info": {
   "codemirror_mode": {
    "name": "ipython",
    "version": 3
   },
   "file_extension": ".py",
   "mimetype": "text/x-python",
   "name": "python",
   "nbconvert_exporter": "python",
   "pygments_lexer": "ipython3",
   "version": "3.7.1"
  }
 },
 "nbformat": 4,
 "nbformat_minor": 4
}
