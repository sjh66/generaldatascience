{
 "cells": [
  {
   "cell_type": "markdown",
   "metadata": {},
   "source": [
    "This dataset contains management information on schools and the outcomes of their Ofsted inspections. There are four\n",
    "Ofsted ratings: Outstanding, Good, Requires Improvement and Inadequate. The dataset also contains information on where\n",
    "the school is located, its religious character and when the inspections took place. We'll use the data to make to look at where\n",
    "inequalities might lie in the education system."
   ]
  },
  {
   "cell_type": "code",
   "execution_count": 2,
   "metadata": {},
   "outputs": [
    {
     "data": {
      "text/html": [
       "<div>\n",
       "<style scoped>\n",
       "    .dataframe tbody tr th:only-of-type {\n",
       "        vertical-align: middle;\n",
       "    }\n",
       "\n",
       "    .dataframe tbody tr th {\n",
       "        vertical-align: top;\n",
       "    }\n",
       "\n",
       "    .dataframe thead th {\n",
       "        text-align: right;\n",
       "    }\n",
       "</style>\n",
       "<table border=\"1\" class=\"dataframe\">\n",
       "  <thead>\n",
       "    <tr style=\"text-align: right;\">\n",
       "      <th></th>\n",
       "      <th>Web link</th>\n",
       "      <th>URN</th>\n",
       "      <th>LAESTAB</th>\n",
       "      <th>School name</th>\n",
       "      <th>Ofsted phase</th>\n",
       "      <th>Type of education</th>\n",
       "      <th>School open date</th>\n",
       "      <th>Admissions policy</th>\n",
       "      <th>Sixth form</th>\n",
       "      <th>Designated religious character</th>\n",
       "      <th>...</th>\n",
       "      <th>School type at time of previous full inspection</th>\n",
       "      <th>Previous full inspection overall effectiveness</th>\n",
       "      <th>Previous category of concern</th>\n",
       "      <th>Previous quality of education</th>\n",
       "      <th>Previous behaviour and attitudes</th>\n",
       "      <th>Previous personal development</th>\n",
       "      <th>Previous effectiveness of leadership and management</th>\n",
       "      <th>Previous safeguarding is effective?</th>\n",
       "      <th>Previous early years provision (where applicable)</th>\n",
       "      <th>Previous sixth form provision (where applicable)</th>\n",
       "    </tr>\n",
       "  </thead>\n",
       "  <tbody>\n",
       "    <tr>\n",
       "      <th>0</th>\n",
       "      <td>http://www.ofsted.gov.uk/inspection-reports/fi...</td>\n",
       "      <td>100000</td>\n",
       "      <td>2013614</td>\n",
       "      <td>Sir John Cass's Foundation Primary School</td>\n",
       "      <td>Primary</td>\n",
       "      <td>Voluntary Aided School</td>\n",
       "      <td>NaN</td>\n",
       "      <td>Not applicable</td>\n",
       "      <td>Does not have a sixth form</td>\n",
       "      <td>Church of England</td>\n",
       "      <td>...</td>\n",
       "      <td>Voluntary Aided School</td>\n",
       "      <td>1.0</td>\n",
       "      <td>NaN</td>\n",
       "      <td>9.0</td>\n",
       "      <td>9.0</td>\n",
       "      <td>9.0</td>\n",
       "      <td>1.0</td>\n",
       "      <td>9</td>\n",
       "      <td>1.0</td>\n",
       "      <td>9.0</td>\n",
       "    </tr>\n",
       "    <tr>\n",
       "      <th>1</th>\n",
       "      <td>http://www.ofsted.gov.uk/inspection-reports/fi...</td>\n",
       "      <td>100005</td>\n",
       "      <td>2021048</td>\n",
       "      <td>Thomas Coram Centre</td>\n",
       "      <td>Nursery</td>\n",
       "      <td>LA Nursery School</td>\n",
       "      <td>NaN</td>\n",
       "      <td>Not applicable</td>\n",
       "      <td>Not applicable</td>\n",
       "      <td>Does not apply</td>\n",
       "      <td>...</td>\n",
       "      <td>LA Nursery School</td>\n",
       "      <td>1.0</td>\n",
       "      <td>NaN</td>\n",
       "      <td>9.0</td>\n",
       "      <td>9.0</td>\n",
       "      <td>9.0</td>\n",
       "      <td>1.0</td>\n",
       "      <td>9</td>\n",
       "      <td>1.0</td>\n",
       "      <td>9.0</td>\n",
       "    </tr>\n",
       "    <tr>\n",
       "      <th>2</th>\n",
       "      <td>http://www.ofsted.gov.uk/inspection-reports/fi...</td>\n",
       "      <td>100006</td>\n",
       "      <td>2021100</td>\n",
       "      <td>CCfL Key Stage 4 PRU</td>\n",
       "      <td>PRU</td>\n",
       "      <td>Pupil Referral Unit</td>\n",
       "      <td>01/09/1999</td>\n",
       "      <td>Not applicable</td>\n",
       "      <td>Not applicable</td>\n",
       "      <td>Does not apply</td>\n",
       "      <td>...</td>\n",
       "      <td>Pupil Referral Unit</td>\n",
       "      <td>2.0</td>\n",
       "      <td>NaN</td>\n",
       "      <td>9.0</td>\n",
       "      <td>9.0</td>\n",
       "      <td>9.0</td>\n",
       "      <td>2.0</td>\n",
       "      <td>9</td>\n",
       "      <td>9.0</td>\n",
       "      <td>9.0</td>\n",
       "    </tr>\n",
       "    <tr>\n",
       "      <th>3</th>\n",
       "      <td>http://www.ofsted.gov.uk/inspection-reports/fi...</td>\n",
       "      <td>100007</td>\n",
       "      <td>2021101</td>\n",
       "      <td>Camden Primary Pupil Referral Unit</td>\n",
       "      <td>PRU</td>\n",
       "      <td>Pupil Referral Unit</td>\n",
       "      <td>NaN</td>\n",
       "      <td>Not applicable</td>\n",
       "      <td>Not applicable</td>\n",
       "      <td>Does not apply</td>\n",
       "      <td>...</td>\n",
       "      <td>Pupil Referral Unit</td>\n",
       "      <td>2.0</td>\n",
       "      <td>NaN</td>\n",
       "      <td>9.0</td>\n",
       "      <td>9.0</td>\n",
       "      <td>9.0</td>\n",
       "      <td>2.0</td>\n",
       "      <td>9</td>\n",
       "      <td>9.0</td>\n",
       "      <td>9.0</td>\n",
       "    </tr>\n",
       "    <tr>\n",
       "      <th>4</th>\n",
       "      <td>http://www.ofsted.gov.uk/inspection-reports/fi...</td>\n",
       "      <td>100008</td>\n",
       "      <td>2022019</td>\n",
       "      <td>Argyle Primary School</td>\n",
       "      <td>Primary</td>\n",
       "      <td>Community School</td>\n",
       "      <td>NaN</td>\n",
       "      <td>Not applicable</td>\n",
       "      <td>Does not have a sixth form</td>\n",
       "      <td>Does not apply</td>\n",
       "      <td>...</td>\n",
       "      <td>Community School</td>\n",
       "      <td>2.0</td>\n",
       "      <td>NaN</td>\n",
       "      <td>9.0</td>\n",
       "      <td>9.0</td>\n",
       "      <td>9.0</td>\n",
       "      <td>2.0</td>\n",
       "      <td>9</td>\n",
       "      <td>2.0</td>\n",
       "      <td>9.0</td>\n",
       "    </tr>\n",
       "  </tbody>\n",
       "</table>\n",
       "<p>5 rows × 70 columns</p>\n",
       "</div>"
      ],
      "text/plain": [
       "                                            Web link     URN  LAESTAB  \\\n",
       "0  http://www.ofsted.gov.uk/inspection-reports/fi...  100000  2013614   \n",
       "1  http://www.ofsted.gov.uk/inspection-reports/fi...  100005  2021048   \n",
       "2  http://www.ofsted.gov.uk/inspection-reports/fi...  100006  2021100   \n",
       "3  http://www.ofsted.gov.uk/inspection-reports/fi...  100007  2021101   \n",
       "4  http://www.ofsted.gov.uk/inspection-reports/fi...  100008  2022019   \n",
       "\n",
       "                                 School name Ofsted phase  \\\n",
       "0  Sir John Cass's Foundation Primary School      Primary   \n",
       "1                        Thomas Coram Centre      Nursery   \n",
       "2                       CCfL Key Stage 4 PRU          PRU   \n",
       "3         Camden Primary Pupil Referral Unit          PRU   \n",
       "4                      Argyle Primary School      Primary   \n",
       "\n",
       "        Type of education School open date Admissions policy  \\\n",
       "0  Voluntary Aided School              NaN    Not applicable   \n",
       "1       LA Nursery School              NaN    Not applicable   \n",
       "2     Pupil Referral Unit       01/09/1999    Not applicable   \n",
       "3     Pupil Referral Unit              NaN    Not applicable   \n",
       "4        Community School              NaN    Not applicable   \n",
       "\n",
       "                   Sixth form Designated religious character  ...  \\\n",
       "0  Does not have a sixth form              Church of England  ...   \n",
       "1              Not applicable                 Does not apply  ...   \n",
       "2              Not applicable                 Does not apply  ...   \n",
       "3              Not applicable                 Does not apply  ...   \n",
       "4  Does not have a sixth form                 Does not apply  ...   \n",
       "\n",
       "  School type at time of previous full inspection  \\\n",
       "0                          Voluntary Aided School   \n",
       "1                               LA Nursery School   \n",
       "2                             Pupil Referral Unit   \n",
       "3                             Pupil Referral Unit   \n",
       "4                                Community School   \n",
       "\n",
       "  Previous full inspection overall effectiveness Previous category of concern  \\\n",
       "0                                            1.0                          NaN   \n",
       "1                                            1.0                          NaN   \n",
       "2                                            2.0                          NaN   \n",
       "3                                            2.0                          NaN   \n",
       "4                                            2.0                          NaN   \n",
       "\n",
       "  Previous quality of education Previous behaviour and attitudes  \\\n",
       "0                           9.0                              9.0   \n",
       "1                           9.0                              9.0   \n",
       "2                           9.0                              9.0   \n",
       "3                           9.0                              9.0   \n",
       "4                           9.0                              9.0   \n",
       "\n",
       "  Previous personal development  \\\n",
       "0                           9.0   \n",
       "1                           9.0   \n",
       "2                           9.0   \n",
       "3                           9.0   \n",
       "4                           9.0   \n",
       "\n",
       "  Previous effectiveness of leadership and management  \\\n",
       "0                                                1.0    \n",
       "1                                                1.0    \n",
       "2                                                2.0    \n",
       "3                                                2.0    \n",
       "4                                                2.0    \n",
       "\n",
       "   Previous safeguarding is effective?  \\\n",
       "0                                    9   \n",
       "1                                    9   \n",
       "2                                    9   \n",
       "3                                    9   \n",
       "4                                    9   \n",
       "\n",
       "   Previous early years provision (where applicable)  \\\n",
       "0                                                1.0   \n",
       "1                                                1.0   \n",
       "2                                                9.0   \n",
       "3                                                9.0   \n",
       "4                                                2.0   \n",
       "\n",
       "   Previous sixth form provision (where applicable)  \n",
       "0                                               9.0  \n",
       "1                                               9.0  \n",
       "2                                               9.0  \n",
       "3                                               9.0  \n",
       "4                                               9.0  \n",
       "\n",
       "[5 rows x 70 columns]"
      ]
     },
     "execution_count": 2,
     "metadata": {},
     "output_type": "execute_result"
    }
   ],
   "source": [
    "# First, read in the data and the necessary libraries\n",
    "import numpy as np\n",
    "import pandas as pd\n",
    "import matplotlib.pyplot as plt\n",
    "# Read the data csv file into a variable called \"schools\"\n",
    "schools = pd.read_csv(\"C:\\\\Users\\\\user\\\\Desktop\\\\Data\\\\Ofsted inspections.csv\", encoding = 'unicode_escape')\n",
    "# Inspect the first few rows of the dataset\n",
    "schools.head()"
   ]
  },
  {
   "cell_type": "code",
   "execution_count": 3,
   "metadata": {},
   "outputs": [
    {
     "name": "stdout",
     "output_type": "stream",
     "text": [
      "Index(['Web link', 'URN', 'LAESTAB', 'School name', 'Ofsted phase',\n",
      "       'Type of education', 'School open date', 'Admissions policy',\n",
      "       'Sixth form', 'Designated religious character', 'Religious ethos',\n",
      "       'Faith grouping', 'Ofsted region', 'Region', 'Local authority',\n",
      "       'Parliamentary constituency', 'Postcode',\n",
      "       'The income deprivation affecting children index (IDACI) quintile',\n",
      "       'Total number of pupils',\n",
      "       'Latest section 8 inspection number since last full inspection',\n",
      "       'Does the section 8 inspection relate to the URN of the current school?',\n",
      "       'URN at time of the section 8 inspection',\n",
      "       'LAESTAB at time of the section 8 inspection',\n",
      "       'School name at time of the latest section 8 inspection',\n",
      "       'School type at time of the latest section 8 inspection',\n",
      "       'Number of section 8 inspections since the last full inspection',\n",
      "       'Date of latest section 8 inspection',\n",
      "       'Section 8 inspection publication date',\n",
      "       'Did the latest section 8 inspection convert to a full inspection?',\n",
      "       'Section 8 inspection overall outcome',\n",
      "       'Number of other section 8 inspections since last full inspection',\n",
      "       'Inspection number of latest full inspection', 'Inspection type',\n",
      "       'Inspection type grouping', 'Event type grouping',\n",
      "       'Inspection start date', 'Inspection end date', 'Publication date',\n",
      "       'Does the latest full inspection relate to the URN of the current school?',\n",
      "       'URN at time of latest full inspection',\n",
      "       'LAESTAB at time of latest full inspection',\n",
      "       'School name at time of latest full inspection',\n",
      "       'School type at time of latest full inspection',\n",
      "       'Overall effectiveness', 'Category of concern', 'Quality of education',\n",
      "       'Behaviour and attitudes', 'Personal development',\n",
      "       'Effectiveness of leadership and management',\n",
      "       'Safeguarding is effective?',\n",
      "       'Early years provision (where applicable)',\n",
      "       'Sixth form provision (where applicable)',\n",
      "       'Previous full inspection number', 'Previous inspection start date',\n",
      "       'Previous inspection end date', 'Previous publication date',\n",
      "       'Does the previous full inspection relate to the URN of the current school?',\n",
      "       'URN at time of previous full inspection',\n",
      "       'LAESTAB at time of previous full inspection',\n",
      "       'School name at time of previous full inspection',\n",
      "       'School type at time of previous full inspection',\n",
      "       'Previous full inspection overall effectiveness',\n",
      "       'Previous category of concern', 'Previous quality of education',\n",
      "       'Previous behaviour and attitudes', 'Previous personal development',\n",
      "       'Previous effectiveness of leadership and management',\n",
      "       'Previous safeguarding is effective?',\n",
      "       'Previous early years provision (where applicable)',\n",
      "       'Previous sixth form provision (where applicable)'],\n",
      "      dtype='object')\n"
     ]
    }
   ],
   "source": [
    "# Let's see what our columns are\n",
    "print(schools.columns)"
   ]
  },
  {
   "cell_type": "markdown",
   "metadata": {},
   "source": [
    "This is a large number of columns to deal with! For the moment, we'll make a dataframe with some of the columns we know we want\n",
    "to use for analysis. We'll start by looking at how the type of school, it's location, income deprivation, and size of school affect\n",
    "their Ofsted ratings. We may make other dataframes later to look at other features, so we'll call this one schools_1."
   ]
  },
  {
   "cell_type": "code",
   "execution_count": 4,
   "metadata": {},
   "outputs": [
    {
     "data": {
      "text/html": [
       "<div>\n",
       "<style scoped>\n",
       "    .dataframe tbody tr th:only-of-type {\n",
       "        vertical-align: middle;\n",
       "    }\n",
       "\n",
       "    .dataframe tbody tr th {\n",
       "        vertical-align: top;\n",
       "    }\n",
       "\n",
       "    .dataframe thead th {\n",
       "        text-align: right;\n",
       "    }\n",
       "</style>\n",
       "<table border=\"1\" class=\"dataframe\">\n",
       "  <thead>\n",
       "    <tr style=\"text-align: right;\">\n",
       "      <th></th>\n",
       "      <th>Type of education</th>\n",
       "      <th>Region</th>\n",
       "      <th>The income deprivation affecting children index (IDACI) quintile</th>\n",
       "      <th>Total number of pupils</th>\n",
       "    </tr>\n",
       "  </thead>\n",
       "  <tbody>\n",
       "    <tr>\n",
       "      <th>0</th>\n",
       "      <td>Voluntary Aided School</td>\n",
       "      <td>London</td>\n",
       "      <td>4.0</td>\n",
       "      <td>285.0</td>\n",
       "    </tr>\n",
       "    <tr>\n",
       "      <th>1</th>\n",
       "      <td>LA Nursery School</td>\n",
       "      <td>London</td>\n",
       "      <td>NaN</td>\n",
       "      <td>133.0</td>\n",
       "    </tr>\n",
       "    <tr>\n",
       "      <th>2</th>\n",
       "      <td>Pupil Referral Unit</td>\n",
       "      <td>London</td>\n",
       "      <td>NaN</td>\n",
       "      <td>52.0</td>\n",
       "    </tr>\n",
       "    <tr>\n",
       "      <th>3</th>\n",
       "      <td>Pupil Referral Unit</td>\n",
       "      <td>London</td>\n",
       "      <td>NaN</td>\n",
       "      <td>19.0</td>\n",
       "    </tr>\n",
       "    <tr>\n",
       "      <th>4</th>\n",
       "      <td>Community School</td>\n",
       "      <td>London</td>\n",
       "      <td>5.0</td>\n",
       "      <td>350.0</td>\n",
       "    </tr>\n",
       "  </tbody>\n",
       "</table>\n",
       "</div>"
      ],
      "text/plain": [
       "        Type of education  Region  \\\n",
       "0  Voluntary Aided School  London   \n",
       "1       LA Nursery School  London   \n",
       "2     Pupil Referral Unit  London   \n",
       "3     Pupil Referral Unit  London   \n",
       "4        Community School  London   \n",
       "\n",
       "   The income deprivation affecting children index (IDACI) quintile  \\\n",
       "0                                                4.0                  \n",
       "1                                                NaN                  \n",
       "2                                                NaN                  \n",
       "3                                                NaN                  \n",
       "4                                                5.0                  \n",
       "\n",
       "   Total number of pupils  \n",
       "0                   285.0  \n",
       "1                   133.0  \n",
       "2                    52.0  \n",
       "3                    19.0  \n",
       "4                   350.0  "
      ]
     },
     "execution_count": 4,
     "metadata": {},
     "output_type": "execute_result"
    }
   ],
   "source": [
    "schools_1 = schools[[\"Type of education\", \"Region\", \"The income deprivation affecting children index (IDACI) quintile\", \"Total number of pupils\"]]\n",
    "schools_1.head()"
   ]
  },
  {
   "cell_type": "code",
   "execution_count": 5,
   "metadata": {},
   "outputs": [
    {
     "name": "stdout",
     "output_type": "stream",
     "text": [
      "<class 'pandas.core.frame.DataFrame'>\n",
      "RangeIndex: 21970 entries, 0 to 21969\n",
      "Data columns (total 4 columns):\n",
      " #   Column                                                            Non-Null Count  Dtype  \n",
      "---  ------                                                            --------------  -----  \n",
      " 0   Type of education                                                 21970 non-null  object \n",
      " 1   Region                                                            21970 non-null  object \n",
      " 2   The income deprivation affecting children index (IDACI) quintile  20939 non-null  float64\n",
      " 3   Total number of pupils                                            21666 non-null  float64\n",
      "dtypes: float64(2), object(2)\n",
      "memory usage: 686.7+ KB\n"
     ]
    }
   ],
   "source": [
    "# Check our dataframe for null values\n",
    "schools_1.info()\n"
   ]
  },
  {
   "cell_type": "markdown",
   "metadata": {},
   "source": [
    "We've got over 20,000 values. \"Total number of pupils\" is only missing around 300, so we will just replace those with the average.\n",
    "The IDACI columns is missing around 5% of values - this is still not significant and so we can replace with the average\n",
    "First we'll rename the IDACI column to IDACI so it's easier to work with (otherwise the name is too long)"
   ]
  },
  {
   "cell_type": "code",
   "execution_count": 6,
   "metadata": {},
   "outputs": [
    {
     "name": "stdout",
     "output_type": "stream",
     "text": [
      "<class 'pandas.core.frame.DataFrame'>\n",
      "RangeIndex: 21970 entries, 0 to 21969\n",
      "Data columns (total 4 columns):\n",
      " #   Column                  Non-Null Count  Dtype  \n",
      "---  ------                  --------------  -----  \n",
      " 0   Type of education       21970 non-null  object \n",
      " 1   Region                  21970 non-null  object \n",
      " 2   IDACI                   21970 non-null  float64\n",
      " 3   Total number of pupils  21970 non-null  float64\n",
      "dtypes: float64(2), object(2)\n",
      "memory usage: 686.7+ KB\n"
     ]
    },
    {
     "name": "stderr",
     "output_type": "stream",
     "text": [
      "C:\\Users\\user\\Anaconda3\\lib\\site-packages\\pandas\\core\\frame.py:4133: SettingWithCopyWarning: \n",
      "A value is trying to be set on a copy of a slice from a DataFrame\n",
      "\n",
      "See the caveats in the documentation: https://pandas.pydata.org/pandas-docs/stable/user_guide/indexing.html#returning-a-view-versus-a-copy\n",
      "  errors=errors,\n",
      "C:\\Users\\user\\Anaconda3\\lib\\site-packages\\pandas\\core\\generic.py:6245: SettingWithCopyWarning: \n",
      "A value is trying to be set on a copy of a slice from a DataFrame\n",
      "\n",
      "See the caveats in the documentation: https://pandas.pydata.org/pandas-docs/stable/user_guide/indexing.html#returning-a-view-versus-a-copy\n",
      "  self._update_inplace(new_data)\n"
     ]
    }
   ],
   "source": [
    "schools_1.rename(columns={\"The income deprivation affecting children index (IDACI) quintile\": \"IDACI\"}, inplace=True)\n",
    "schools_1[\"IDACI\"].fillna(schools_1[\"IDACI\"].mean(), inplace=True)\n",
    "schools_1[\"Total number of pupils\"].fillna(schools_1[\"Total number of pupils\"].mean(), inplace=True)\n",
    "schools_1.info()"
   ]
  },
  {
   "cell_type": "markdown",
   "metadata": {},
   "source": [
    "We now have no null objects in our dataframe and can start to look at correlations between the features. Before doing that, we should clarify what \"IDACI\" is. It measures the proportion of all children aged 0 to 15 living in \n",
    "income deprived families. The more deprived an area, the higher its score but the lower the rank, so the first quintile will be the most deprived.Let's start by inspecting the types of education and region columns, as this is categorical data\n",
    "for which we don't know the categories"
   ]
  },
  {
   "cell_type": "code",
   "execution_count": 8,
   "metadata": {},
   "outputs": [
    {
     "data": {
      "text/plain": [
       "Community School                             6274\n",
       "Academy Converter                            5843\n",
       "Voluntary Aided School                       2851\n",
       "Academy Sponsor Led                          2306\n",
       "Voluntary Controlled School                  1719\n",
       "Foundation School                             722\n",
       "Community Special School                      524\n",
       "Free School                                   392\n",
       "LA Nursery School                             389\n",
       "Academy Special Converter                     272\n",
       "Pupil Referral Unit                           202\n",
       "Foundation Special School                      86\n",
       "Academy Alternative Provision Converter        72\n",
       "Academy Special Sponsor Led                    68\n",
       "Non-Maintained Special School                  58\n",
       "University Technical College                   48\n",
       "Free School - Alternative Provision            46\n",
       "Free School Special                            44\n",
       "Academy Alternative Provision Sponsor Led      27\n",
       "Studio School                                  24\n",
       "City Technology College                         3\n",
       "Name: Type of education, dtype: int64"
      ]
     },
     "execution_count": 8,
     "metadata": {},
     "output_type": "execute_result"
    }
   ],
   "source": [
    "schools_1[\"Type of education\"].value_counts()\n"
   ]
  },
  {
   "cell_type": "markdown",
   "metadata": {},
   "source": [
    "There are five types of school that dominate here: Community, Academy Converter, Voluntatry Aided, Academy Sponsor Led and\n",
    "Voluntary Controlled School. We'll focus on these schools first to see which gets the best Ofsted ratings."
   ]
  },
  {
   "cell_type": "code",
   "execution_count": 11,
   "metadata": {},
   "outputs": [
    {
     "data": {
      "text/html": [
       "<div>\n",
       "<style scoped>\n",
       "    .dataframe tbody tr th:only-of-type {\n",
       "        vertical-align: middle;\n",
       "    }\n",
       "\n",
       "    .dataframe tbody tr th {\n",
       "        vertical-align: top;\n",
       "    }\n",
       "\n",
       "    .dataframe thead th {\n",
       "        text-align: right;\n",
       "    }\n",
       "</style>\n",
       "<table border=\"1\" class=\"dataframe\">\n",
       "  <thead>\n",
       "    <tr style=\"text-align: right;\">\n",
       "      <th></th>\n",
       "      <th>Type of education</th>\n",
       "      <th>Overall effectiveness</th>\n",
       "    </tr>\n",
       "  </thead>\n",
       "  <tbody>\n",
       "    <tr>\n",
       "      <th>0</th>\n",
       "      <td>Voluntary Aided School</td>\n",
       "      <td>1.0</td>\n",
       "    </tr>\n",
       "    <tr>\n",
       "      <th>1</th>\n",
       "      <td>LA Nursery School</td>\n",
       "      <td>1.0</td>\n",
       "    </tr>\n",
       "    <tr>\n",
       "      <th>2</th>\n",
       "      <td>Pupil Referral Unit</td>\n",
       "      <td>2.0</td>\n",
       "    </tr>\n",
       "    <tr>\n",
       "      <th>3</th>\n",
       "      <td>Pupil Referral Unit</td>\n",
       "      <td>2.0</td>\n",
       "    </tr>\n",
       "    <tr>\n",
       "      <th>4</th>\n",
       "      <td>Community School</td>\n",
       "      <td>2.0</td>\n",
       "    </tr>\n",
       "  </tbody>\n",
       "</table>\n",
       "</div>"
      ],
      "text/plain": [
       "        Type of education  Overall effectiveness\n",
       "0  Voluntary Aided School                    1.0\n",
       "1       LA Nursery School                    1.0\n",
       "2     Pupil Referral Unit                    2.0\n",
       "3     Pupil Referral Unit                    2.0\n",
       "4        Community School                    2.0"
      ]
     },
     "execution_count": 11,
     "metadata": {},
     "output_type": "execute_result"
    }
   ],
   "source": [
    "types = pd.concat([schools_1[\"Type of education\"], schools[\"Overall effectiveness\"]], axis=1)\n",
    "types.head()"
   ]
  },
  {
   "cell_type": "markdown",
   "metadata": {},
   "source": [
    "Let's make separate dataframes for each of the five types of school, with abbreviations for each type to make it easier. We \n",
    "can then print the mean Ofsted rating for each type of school to give a first look at which type does best."
   ]
  },
  {
   "cell_type": "code",
   "execution_count": 17,
   "metadata": {},
   "outputs": [
    {
     "name": "stdout",
     "output_type": "stream",
     "text": [
      "1.954393238717908\n",
      "1.9069249228659582\n",
      "1.900878734622144\n",
      "2.574727668845316\n",
      "1.9557367501456029\n"
     ]
    }
   ],
   "source": [
    "cs = types[types[\"Type of education\"] == \"Community School\"]\n",
    "ac = types[types[\"Type of education\"] == \"Academy Converter\"]\n",
    "vas = types[types[\"Type of education\"] == \"Voluntary Aided School\"]\n",
    "asl = types[types[\"Type of education\"] == \"Academy Sponsor Led\"]\n",
    "vcs = types[types[\"Type of education\"] == \"Voluntary Controlled School\"]\n",
    "dataframes = [cs, ac, vas, asl, vcl]\n",
    "for dataframe in dataframes:\n",
    "    mean = dataframe[\"Overall effectiveness\"].mean()\n",
    "    print(mean)\n",
    "\n"
   ]
  },
  {
   "cell_type": "markdown",
   "metadata": {},
   "source": [
    "They're remarkably close in average rating, apart from academies (i.e. those that have always been academies), who average\n",
    "around 0.6 lower. Let's look at the distribution of each type of school's ratings to see if this shows anything interesting."
   ]
  },
  {
   "cell_type": "code",
   "execution_count": 21,
   "metadata": {},
   "outputs": [
    {
     "data": {
      "image/png": "[encoded data removed]",
      "text/plain": [
       "<Figure size 1800x360 with 5 Axes>"
      ]
     },
     "metadata": {
      "needs_background": "light"
     },
     "output_type": "display_data"
    }
   ],
   "source": [
    "fig, (ax1, ax2, ax3, ax4, ax5) = plt.subplots(1,5, figsize=(25,5))\n",
    "ax1.hist(cs[\"Overall effectiveness\"])\n",
    "ax1.set_title(\"Community school\")\n",
    "ax2.hist(ac[\"Overall effectiveness\"])\n",
    "ax2.set_title(\"Academy converter\")\n",
    "ax3.hist(vas[\"Overall effectiveness\"])\n",
    "ax3.set_title(\"Voluntary aided school\")\n",
    "ax4.hist(asl[\"Overall effectiveness\"])\n",
    "ax4.set_title(\"Academy sponsor led\")\n",
    "ax5.hist(vcs[\"Overall effectiveness\"])\n",
    "ax5.set_title(\"Voluntary controlled school\")\n",
    "plt.show()\n"
   ]
  },
  {
   "cell_type": "markdown",
   "metadata": {},
   "source": [
    "Academies have a large proportion of schools rated \"requires improvement\" or \"inadequate\", which is what pulls the average down\n",
    "The other types of school have similar distributions."
   ]
  },
  {
   "cell_type": "code",
   "execution_count": 24,
   "metadata": {},
   "outputs": [
    {
     "data": {
      "text/html": [
       "<div>\n",
       "<style scoped>\n",
       "    .dataframe tbody tr th:only-of-type {\n",
       "        vertical-align: middle;\n",
       "    }\n",
       "\n",
       "    .dataframe tbody tr th {\n",
       "        vertical-align: top;\n",
       "    }\n",
       "\n",
       "    .dataframe thead th {\n",
       "        text-align: right;\n",
       "    }\n",
       "</style>\n",
       "<table border=\"1\" class=\"dataframe\">\n",
       "  <thead>\n",
       "    <tr style=\"text-align: right;\">\n",
       "      <th></th>\n",
       "      <th>Total number of pupils</th>\n",
       "      <th>Overall effectiveness</th>\n",
       "    </tr>\n",
       "  </thead>\n",
       "  <tbody>\n",
       "    <tr>\n",
       "      <th>0</th>\n",
       "      <td>285.0</td>\n",
       "      <td>1.0</td>\n",
       "    </tr>\n",
       "    <tr>\n",
       "      <th>1</th>\n",
       "      <td>133.0</td>\n",
       "      <td>1.0</td>\n",
       "    </tr>\n",
       "    <tr>\n",
       "      <th>2</th>\n",
       "      <td>52.0</td>\n",
       "      <td>2.0</td>\n",
       "    </tr>\n",
       "    <tr>\n",
       "      <th>3</th>\n",
       "      <td>19.0</td>\n",
       "      <td>2.0</td>\n",
       "    </tr>\n",
       "    <tr>\n",
       "      <th>4</th>\n",
       "      <td>350.0</td>\n",
       "      <td>2.0</td>\n",
       "    </tr>\n",
       "  </tbody>\n",
       "</table>\n",
       "</div>"
      ],
      "text/plain": [
       "   Total number of pupils  Overall effectiveness\n",
       "0                   285.0                    1.0\n",
       "1                   133.0                    1.0\n",
       "2                    52.0                    2.0\n",
       "3                    19.0                    2.0\n",
       "4                   350.0                    2.0"
      ]
     },
     "execution_count": 24,
     "metadata": {},
     "output_type": "execute_result"
    }
   ],
   "source": [
    "# Now let's look at how the number of pupils in a schools affects performance. We'll create a new dataframe to do this\n",
    "pupils = pd.concat([schools_1[\"Total number of pupils\"], schools[\"Overall effectiveness\"]], axis=1)\n",
    "pupils.head()"
   ]
  },
  {
   "cell_type": "code",
   "execution_count": 25,
   "metadata": {},
   "outputs": [
    {
     "data": {
      "text/plain": [
       "count    21970.000000\n",
       "mean       375.110265\n",
       "std        337.818131\n",
       "min          0.000000\n",
       "25%        169.000000\n",
       "50%        259.000000\n",
       "75%        446.000000\n",
       "max       2953.000000\n",
       "Name: Total number of pupils, dtype: float64"
      ]
     },
     "execution_count": 25,
     "metadata": {},
     "output_type": "execute_result"
    }
   ],
   "source": [
    "pupils[\"Total number of pupils\"].describe()"
   ]
  },
  {
   "cell_type": "markdown",
   "metadata": {},
   "source": [
    "The max is nearly 3,000 pupils - we could do qunitles as we have seen earlier. It also tells us the minimum is 0 - we should remove theserows as we don't want values for a school with pupils"
   ]
  },
  {
   "cell_type": "code",
   "execution_count": 26,
   "metadata": {},
   "outputs": [
    {
     "data": {
      "text/plain": [
       "count    21969.000000\n",
       "mean       375.127339\n",
       "std        337.816339\n",
       "min          1.000000\n",
       "25%        169.000000\n",
       "50%        259.000000\n",
       "75%        446.000000\n",
       "max       2953.000000\n",
       "Name: Total number of pupils, dtype: float64"
      ]
     },
     "execution_count": 26,
     "metadata": {},
     "output_type": "execute_result"
    }
   ],
   "source": [
    "pupils = pupils[pupils[\"Total number of pupils\"] != 0]\n",
    "pupils[\"Total number of pupils\"].describe()"
   ]
  },
  {
   "cell_type": "code",
   "execution_count": 32,
   "metadata": {},
   "outputs": [
    {
     "data": {
      "text/html": [
       "<div>\n",
       "<style scoped>\n",
       "    .dataframe tbody tr th:only-of-type {\n",
       "        vertical-align: middle;\n",
       "    }\n",
       "\n",
       "    .dataframe tbody tr th {\n",
       "        vertical-align: top;\n",
       "    }\n",
       "\n",
       "    .dataframe thead th {\n",
       "        text-align: right;\n",
       "    }\n",
       "</style>\n",
       "<table border=\"1\" class=\"dataframe\">\n",
       "  <thead>\n",
       "    <tr style=\"text-align: right;\">\n",
       "      <th></th>\n",
       "      <th>Total number of pupils</th>\n",
       "      <th>Overall effectiveness</th>\n",
       "      <th>Quintile</th>\n",
       "    </tr>\n",
       "  </thead>\n",
       "  <tbody>\n",
       "    <tr>\n",
       "      <th>0</th>\n",
       "      <td>285.0</td>\n",
       "      <td>1.0</td>\n",
       "      <td>Q1</td>\n",
       "    </tr>\n",
       "    <tr>\n",
       "      <th>1</th>\n",
       "      <td>133.0</td>\n",
       "      <td>1.0</td>\n",
       "      <td>Q1</td>\n",
       "    </tr>\n",
       "    <tr>\n",
       "      <th>2</th>\n",
       "      <td>52.0</td>\n",
       "      <td>2.0</td>\n",
       "      <td>Q1</td>\n",
       "    </tr>\n",
       "    <tr>\n",
       "      <th>3</th>\n",
       "      <td>19.0</td>\n",
       "      <td>2.0</td>\n",
       "      <td>Q1</td>\n",
       "    </tr>\n",
       "    <tr>\n",
       "      <th>4</th>\n",
       "      <td>350.0</td>\n",
       "      <td>2.0</td>\n",
       "      <td>Q1</td>\n",
       "    </tr>\n",
       "  </tbody>\n",
       "</table>\n",
       "</div>"
      ],
      "text/plain": [
       "   Total number of pupils  Overall effectiveness Quintile\n",
       "0                   285.0                    1.0       Q1\n",
       "1                   133.0                    1.0       Q1\n",
       "2                    52.0                    2.0       Q1\n",
       "3                    19.0                    2.0       Q1\n",
       "4                   350.0                    2.0       Q1"
      ]
     },
     "execution_count": 32,
     "metadata": {},
     "output_type": "execute_result"
    }
   ],
   "source": [
    "quintiles = [\"Q1\", \"Q2\", \"Q3\", \"Q4\", \"Q5\"]\n",
    "pupils[\"Quintile\"] = pd.cut(pupils[\"Total number of pupils\"], bins=5, labels = quintiles)\n",
    "pupils.head()\n"
   ]
  },
  {
   "cell_type": "code",
   "execution_count": 37,
   "metadata": {},
   "outputs": [
    {
     "name": "stdout",
     "output_type": "stream",
     "text": [
      "[1.982721619985693]\n",
      "[2.0560278207109737]\n",
      "[1.8544444444444443]\n",
      "[1.6636363636363636]\n",
      "[1.8]\n"
     ]
    }
   ],
   "source": [
    "for quintile in quintiles:\n",
    "    means = []\n",
    "    df = pupils[pupils[\"Quintile\"] == quintile]\n",
    "    mean = df[\"Overall effectiveness\"].mean()\n",
    "    means.append(mean)\n",
    "    print(means)\n",
    "        "
   ]
  },
  {
   "cell_type": "code",
   "execution_count": 46,
   "metadata": {},
   "outputs": [
    {
     "ename": "KeyError",
     "evalue": "\"['Quintile'] not found in axis\"",
     "output_type": "error",
     "traceback": [
      "\u001b[1;31m---------------------------------------------------------------------------\u001b[0m",
      "\u001b[1;31mKeyError\u001b[0m                                  Traceback (most recent call last)",
      "\u001b[1;32m<ipython-input-46-9d9947bef305>\u001b[0m in \u001b[0;36m<module>\u001b[1;34m\u001b[0m\n\u001b[0;32m      2\u001b[0m \u001b[1;31m# with smaller bins\u001b[0m\u001b[1;33m\u001b[0m\u001b[1;33m\u001b[0m\u001b[1;33m\u001b[0m\u001b[0m\n\u001b[0;32m      3\u001b[0m \u001b[0mbin_number\u001b[0m \u001b[1;33m=\u001b[0m \u001b[1;33m[\u001b[0m\u001b[1;34m\"1\"\u001b[0m\u001b[1;33m,\u001b[0m \u001b[1;34m\"2\"\u001b[0m\u001b[1;33m,\u001b[0m \u001b[1;34m\"3\"\u001b[0m\u001b[1;33m,\u001b[0m \u001b[1;34m\"4\"\u001b[0m\u001b[1;33m,\u001b[0m \u001b[1;34m\"5\"\u001b[0m\u001b[1;33m,\u001b[0m \u001b[1;34m\"6\"\u001b[0m\u001b[1;33m,\u001b[0m \u001b[1;34m\"7\"\u001b[0m\u001b[1;33m,\u001b[0m \u001b[1;34m\"8\"\u001b[0m\u001b[1;33m,\u001b[0m \u001b[1;34m\"9\"\u001b[0m\u001b[1;33m,\u001b[0m \u001b[1;34m\"10\"\u001b[0m\u001b[1;33m]\u001b[0m\u001b[1;33m\u001b[0m\u001b[1;33m\u001b[0m\u001b[0m\n\u001b[1;32m----> 4\u001b[1;33m \u001b[0mpupils\u001b[0m\u001b[1;33m.\u001b[0m\u001b[0mdrop\u001b[0m\u001b[1;33m(\u001b[0m\u001b[1;33m[\u001b[0m\u001b[1;34m\"Quintile\"\u001b[0m\u001b[1;33m]\u001b[0m\u001b[1;33m,\u001b[0m \u001b[0maxis\u001b[0m\u001b[1;33m=\u001b[0m\u001b[1;36m0\u001b[0m\u001b[1;33m,\u001b[0m \u001b[0minplace\u001b[0m\u001b[1;33m=\u001b[0m\u001b[1;32mTrue\u001b[0m\u001b[1;33m)\u001b[0m\u001b[1;33m\u001b[0m\u001b[1;33m\u001b[0m\u001b[0m\n\u001b[0m\u001b[0;32m      5\u001b[0m \u001b[0mpupils\u001b[0m\u001b[1;33m[\u001b[0m\u001b[1;34m\"Bin\"\u001b[0m\u001b[1;33m]\u001b[0m \u001b[1;33m=\u001b[0m \u001b[0mpd\u001b[0m\u001b[1;33m.\u001b[0m\u001b[0mcut\u001b[0m\u001b[1;33m(\u001b[0m\u001b[0mpupils\u001b[0m\u001b[1;33m[\u001b[0m\u001b[1;34m\"Total number of pupils\"\u001b[0m\u001b[1;33m]\u001b[0m\u001b[1;33m,\u001b[0m \u001b[0mbins\u001b[0m\u001b[1;33m=\u001b[0m\u001b[1;36m10\u001b[0m\u001b[1;33m,\u001b[0m \u001b[0mlabels\u001b[0m\u001b[1;33m=\u001b[0m\u001b[0mbin_number\u001b[0m\u001b[1;33m)\u001b[0m\u001b[1;33m\u001b[0m\u001b[1;33m\u001b[0m\u001b[0m\n",
      "\u001b[1;32mC:\\Users\\user\\Anaconda3\\lib\\site-packages\\pandas\\core\\frame.py\u001b[0m in \u001b[0;36mdrop\u001b[1;34m(self, labels, axis, index, columns, level, inplace, errors)\u001b[0m\n\u001b[0;32m   3995\u001b[0m             \u001b[0mlevel\u001b[0m\u001b[1;33m=\u001b[0m\u001b[0mlevel\u001b[0m\u001b[1;33m,\u001b[0m\u001b[1;33m\u001b[0m\u001b[1;33m\u001b[0m\u001b[0m\n\u001b[0;32m   3996\u001b[0m             \u001b[0minplace\u001b[0m\u001b[1;33m=\u001b[0m\u001b[0minplace\u001b[0m\u001b[1;33m,\u001b[0m\u001b[1;33m\u001b[0m\u001b[1;33m\u001b[0m\u001b[0m\n\u001b[1;32m-> 3997\u001b[1;33m             \u001b[0merrors\u001b[0m\u001b[1;33m=\u001b[0m\u001b[0merrors\u001b[0m\u001b[1;33m,\u001b[0m\u001b[1;33m\u001b[0m\u001b[1;33m\u001b[0m\u001b[0m\n\u001b[0m\u001b[0;32m   3998\u001b[0m         )\n\u001b[0;32m   3999\u001b[0m \u001b[1;33m\u001b[0m\u001b[0m\n",
      "\u001b[1;32mC:\\Users\\user\\Anaconda3\\lib\\site-packages\\pandas\\core\\generic.py\u001b[0m in \u001b[0;36mdrop\u001b[1;34m(self, labels, axis, index, columns, level, inplace, errors)\u001b[0m\n\u001b[0;32m   3934\u001b[0m         \u001b[1;32mfor\u001b[0m \u001b[0maxis\u001b[0m\u001b[1;33m,\u001b[0m \u001b[0mlabels\u001b[0m \u001b[1;32min\u001b[0m \u001b[0maxes\u001b[0m\u001b[1;33m.\u001b[0m\u001b[0mitems\u001b[0m\u001b[1;33m(\u001b[0m\u001b[1;33m)\u001b[0m\u001b[1;33m:\u001b[0m\u001b[1;33m\u001b[0m\u001b[1;33m\u001b[0m\u001b[0m\n\u001b[0;32m   3935\u001b[0m             \u001b[1;32mif\u001b[0m \u001b[0mlabels\u001b[0m \u001b[1;32mis\u001b[0m \u001b[1;32mnot\u001b[0m \u001b[1;32mNone\u001b[0m\u001b[1;33m:\u001b[0m\u001b[1;33m\u001b[0m\u001b[1;33m\u001b[0m\u001b[0m\n\u001b[1;32m-> 3936\u001b[1;33m                 \u001b[0mobj\u001b[0m \u001b[1;33m=\u001b[0m \u001b[0mobj\u001b[0m\u001b[1;33m.\u001b[0m\u001b[0m_drop_axis\u001b[0m\u001b[1;33m(\u001b[0m\u001b[0mlabels\u001b[0m\u001b[1;33m,\u001b[0m \u001b[0maxis\u001b[0m\u001b[1;33m,\u001b[0m \u001b[0mlevel\u001b[0m\u001b[1;33m=\u001b[0m\u001b[0mlevel\u001b[0m\u001b[1;33m,\u001b[0m \u001b[0merrors\u001b[0m\u001b[1;33m=\u001b[0m\u001b[0merrors\u001b[0m\u001b[1;33m)\u001b[0m\u001b[1;33m\u001b[0m\u001b[1;33m\u001b[0m\u001b[0m\n\u001b[0m\u001b[0;32m   3937\u001b[0m \u001b[1;33m\u001b[0m\u001b[0m\n\u001b[0;32m   3938\u001b[0m         \u001b[1;32mif\u001b[0m \u001b[0minplace\u001b[0m\u001b[1;33m:\u001b[0m\u001b[1;33m\u001b[0m\u001b[1;33m\u001b[0m\u001b[0m\n",
      "\u001b[1;32mC:\\Users\\user\\Anaconda3\\lib\\site-packages\\pandas\\core\\generic.py\u001b[0m in \u001b[0;36m_drop_axis\u001b[1;34m(self, labels, axis, level, errors)\u001b[0m\n\u001b[0;32m   3968\u001b[0m                 \u001b[0mnew_axis\u001b[0m \u001b[1;33m=\u001b[0m \u001b[0maxis\u001b[0m\u001b[1;33m.\u001b[0m\u001b[0mdrop\u001b[0m\u001b[1;33m(\u001b[0m\u001b[0mlabels\u001b[0m\u001b[1;33m,\u001b[0m \u001b[0mlevel\u001b[0m\u001b[1;33m=\u001b[0m\u001b[0mlevel\u001b[0m\u001b[1;33m,\u001b[0m \u001b[0merrors\u001b[0m\u001b[1;33m=\u001b[0m\u001b[0merrors\u001b[0m\u001b[1;33m)\u001b[0m\u001b[1;33m\u001b[0m\u001b[1;33m\u001b[0m\u001b[0m\n\u001b[0;32m   3969\u001b[0m             \u001b[1;32melse\u001b[0m\u001b[1;33m:\u001b[0m\u001b[1;33m\u001b[0m\u001b[1;33m\u001b[0m\u001b[0m\n\u001b[1;32m-> 3970\u001b[1;33m                 \u001b[0mnew_axis\u001b[0m \u001b[1;33m=\u001b[0m \u001b[0maxis\u001b[0m\u001b[1;33m.\u001b[0m\u001b[0mdrop\u001b[0m\u001b[1;33m(\u001b[0m\u001b[0mlabels\u001b[0m\u001b[1;33m,\u001b[0m \u001b[0merrors\u001b[0m\u001b[1;33m=\u001b[0m\u001b[0merrors\u001b[0m\u001b[1;33m)\u001b[0m\u001b[1;33m\u001b[0m\u001b[1;33m\u001b[0m\u001b[0m\n\u001b[0m\u001b[0;32m   3971\u001b[0m             \u001b[0mresult\u001b[0m \u001b[1;33m=\u001b[0m \u001b[0mself\u001b[0m\u001b[1;33m.\u001b[0m\u001b[0mreindex\u001b[0m\u001b[1;33m(\u001b[0m\u001b[1;33m**\u001b[0m\u001b[1;33m{\u001b[0m\u001b[0maxis_name\u001b[0m\u001b[1;33m:\u001b[0m \u001b[0mnew_axis\u001b[0m\u001b[1;33m}\u001b[0m\u001b[1;33m)\u001b[0m\u001b[1;33m\u001b[0m\u001b[1;33m\u001b[0m\u001b[0m\n\u001b[0;32m   3972\u001b[0m \u001b[1;33m\u001b[0m\u001b[0m\n",
      "\u001b[1;32mC:\\Users\\user\\Anaconda3\\lib\\site-packages\\pandas\\core\\indexes\\base.py\u001b[0m in \u001b[0;36mdrop\u001b[1;34m(self, labels, errors)\u001b[0m\n\u001b[0;32m   5015\u001b[0m         \u001b[1;32mif\u001b[0m \u001b[0mmask\u001b[0m\u001b[1;33m.\u001b[0m\u001b[0many\u001b[0m\u001b[1;33m(\u001b[0m\u001b[1;33m)\u001b[0m\u001b[1;33m:\u001b[0m\u001b[1;33m\u001b[0m\u001b[1;33m\u001b[0m\u001b[0m\n\u001b[0;32m   5016\u001b[0m             \u001b[1;32mif\u001b[0m \u001b[0merrors\u001b[0m \u001b[1;33m!=\u001b[0m \u001b[1;34m\"ignore\"\u001b[0m\u001b[1;33m:\u001b[0m\u001b[1;33m\u001b[0m\u001b[1;33m\u001b[0m\u001b[0m\n\u001b[1;32m-> 5017\u001b[1;33m                 \u001b[1;32mraise\u001b[0m \u001b[0mKeyError\u001b[0m\u001b[1;33m(\u001b[0m\u001b[1;34mf\"{labels[mask]} not found in axis\"\u001b[0m\u001b[1;33m)\u001b[0m\u001b[1;33m\u001b[0m\u001b[1;33m\u001b[0m\u001b[0m\n\u001b[0m\u001b[0;32m   5018\u001b[0m             \u001b[0mindexer\u001b[0m \u001b[1;33m=\u001b[0m \u001b[0mindexer\u001b[0m\u001b[1;33m[\u001b[0m\u001b[1;33m~\u001b[0m\u001b[0mmask\u001b[0m\u001b[1;33m]\u001b[0m\u001b[1;33m\u001b[0m\u001b[1;33m\u001b[0m\u001b[0m\n\u001b[0;32m   5019\u001b[0m         \u001b[1;32mreturn\u001b[0m \u001b[0mself\u001b[0m\u001b[1;33m.\u001b[0m\u001b[0mdelete\u001b[0m\u001b[1;33m(\u001b[0m\u001b[0mindexer\u001b[0m\u001b[1;33m)\u001b[0m\u001b[1;33m\u001b[0m\u001b[1;33m\u001b[0m\u001b[0m\n",
      "\u001b[1;31mKeyError\u001b[0m: \"['Quintile'] not found in axis\""
     ]
    }
   ],
   "source": [
    "# We generally get better scores the bigger the school, although that is not always true. We should see if we get better results\n",
    "# with smaller bins\n",
    "bin_number = [\"1\", \"2\", \"3\", \"4\", \"5\", \"6\", \"7\", \"8\", \"9\", \"10\"]\n",
    "pupils.drop([\"Quintile\"], axis=0, inplace=True)\n",
    "pupils[\"Bin\"] = pd.cut(pupils[\"Total number of pupils\"], bins=10, labels=bin_number)"
   ]
  },
  {
   "cell_type": "code",
   "execution_count": 53,
   "metadata": {},
   "outputs": [
    {
     "name": "stdout",
     "output_type": "stream",
     "text": [
      "[1.9458865308193118]\n",
      "[2.0513709423258746]\n",
      "[2.069452980946527]\n",
      "[2.033298647242456]\n",
      "[1.8651685393258426]\n",
      "[1.8303249097472925]\n",
      "[1.6511627906976745]\n",
      "[1.7083333333333333]\n",
      "[1.6666666666666667]\n",
      "[2.0]\n"
     ]
    }
   ],
   "source": [
    "pupils.head()\n",
    "for b in bin_number:\n",
    "    means = []\n",
    "    df = pupils[pupils[\"Bin\"] == b]\n",
    "    mean = df[\"Overall effectiveness\"].mean()\n",
    "    means.append(mean)\n",
    "    print(means)"
   ]
  },
  {
   "cell_type": "code",
   "execution_count": 54,
   "metadata": {},
   "outputs": [
    {
     "ename": "AttributeError",
     "evalue": "module 'pandas' has no attribute 'series'",
     "output_type": "error",
     "traceback": [
      "\u001b[1;31m---------------------------------------------------------------------------\u001b[0m",
      "\u001b[1;31mAttributeError\u001b[0m                            Traceback (most recent call last)",
      "\u001b[1;32m<ipython-input-54-44d9f269644b>\u001b[0m in \u001b[0;36m<module>\u001b[1;34m\u001b[0m\n\u001b[1;32m----> 1\u001b[1;33m \u001b[0mbins\u001b[0m \u001b[1;33m=\u001b[0m \u001b[0mpd\u001b[0m\u001b[1;33m.\u001b[0m\u001b[0mseries\u001b[0m\u001b[1;33m(\u001b[0m\u001b[0mbin_number\u001b[0m\u001b[1;33m)\u001b[0m\u001b[1;33m\u001b[0m\u001b[1;33m\u001b[0m\u001b[0m\n\u001b[0m\u001b[0;32m      2\u001b[0m \u001b[0maverages\u001b[0m \u001b[1;33m=\u001b[0m \u001b[0mpd\u001b[0m\u001b[1;33m.\u001b[0m\u001b[0mseries\u001b[0m\u001b[1;33m(\u001b[0m\u001b[0mmeans\u001b[0m\u001b[1;33m)\u001b[0m\u001b[1;33m\u001b[0m\u001b[1;33m\u001b[0m\u001b[0m\n\u001b[0;32m      3\u001b[0m \u001b[0mplt\u001b[0m\u001b[1;33m.\u001b[0m\u001b[0mhist\u001b[0m\u001b[1;33m(\u001b[0m\u001b[0mbins\u001b[0m\u001b[1;33m,\u001b[0m \u001b[0maverages\u001b[0m\u001b[1;33m)\u001b[0m\u001b[1;33m\u001b[0m\u001b[1;33m\u001b[0m\u001b[0m\n\u001b[0;32m      4\u001b[0m \u001b[0mplt\u001b[0m\u001b[1;33m.\u001b[0m\u001b[0mshow\u001b[0m\u001b[1;33m(\u001b[0m\u001b[1;33m)\u001b[0m\u001b[1;33m\u001b[0m\u001b[1;33m\u001b[0m\u001b[0m\n",
      "\u001b[1;32mC:\\Users\\user\\Anaconda3\\lib\\site-packages\\pandas\\__init__.py\u001b[0m in \u001b[0;36m__getattr__\u001b[1;34m(name)\u001b[0m\n\u001b[0;32m    261\u001b[0m             \u001b[1;32mreturn\u001b[0m \u001b[0m_SparseArray\u001b[0m\u001b[1;33m\u001b[0m\u001b[1;33m\u001b[0m\u001b[0m\n\u001b[0;32m    262\u001b[0m \u001b[1;33m\u001b[0m\u001b[0m\n\u001b[1;32m--> 263\u001b[1;33m         \u001b[1;32mraise\u001b[0m \u001b[0mAttributeError\u001b[0m\u001b[1;33m(\u001b[0m\u001b[1;34mf\"module 'pandas' has no attribute '{name}'\"\u001b[0m\u001b[1;33m)\u001b[0m\u001b[1;33m\u001b[0m\u001b[1;33m\u001b[0m\u001b[0m\n\u001b[0m\u001b[0;32m    264\u001b[0m \u001b[1;33m\u001b[0m\u001b[0m\n\u001b[0;32m    265\u001b[0m \u001b[1;33m\u001b[0m\u001b[0m\n",
      "\u001b[1;31mAttributeError\u001b[0m: module 'pandas' has no attribute 'series'"
     ]
    }
   ],
   "source": [
    "bins = pd.series(bin_number)\n",
    "averages = pd.series(means)\n",
    "plt.hist(bins, averages)\n",
    "plt.show()\n"
   ]
  },
  {
   "cell_type": "code",
   "execution_count": null,
   "metadata": {},
   "outputs": [],
   "source": []
  }
 ],
 "metadata": {
  "kernelspec": {
   "display_name": "Python 3",
   "language": "python",
   "name": "python3"
  },
  "language_info": {
   "codemirror_mode": {
    "name": "ipython",
    "version": 3
   },
   "file_extension": ".py",
   "mimetype": "text/x-python",
   "name": "python",
   "nbconvert_exporter": "python",
   "pygments_lexer": "ipython3",
   "version": "3.7.1"
  }
 },
 "nbformat": 4,
 "nbformat_minor": 4
}
