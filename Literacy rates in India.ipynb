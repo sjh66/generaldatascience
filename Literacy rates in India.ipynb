{
 "cells": [
  {
   "cell_type": "code",
   "execution_count": 9,
   "metadata": {},
   "outputs": [
    {
     "data": {
      "text/html": [
       "<div>\n",
       "<style scoped>\n",
       "    .dataframe tbody tr th:only-of-type {\n",
       "        vertical-align: middle;\n",
       "    }\n",
       "\n",
       "    .dataframe tbody tr th {\n",
       "        vertical-align: top;\n",
       "    }\n",
       "\n",
       "    .dataframe thead th {\n",
       "        text-align: right;\n",
       "    }\n",
       "</style>\n",
       "<table border=\"1\" class=\"dataframe\">\n",
       "  <thead>\n",
       "    <tr style=\"text-align: right;\">\n",
       "      <th></th>\n",
       "      <th>Category</th>\n",
       "      <th>Country/ States/ Union Territories Name</th>\n",
       "      <th>Literacy Rate (Persons) - Total - 2001</th>\n",
       "      <th>Literacy Rate (Persons) - Total - 2011</th>\n",
       "      <th>Literacy Rate (Persons) - Rural - 2001</th>\n",
       "      <th>Literacy Rate (Persons) - Rural - 2011</th>\n",
       "      <th>Literacy Rate (Persons) - Urban - 2001</th>\n",
       "      <th>Literacy Rate (Persons) - Urban - 2011</th>\n",
       "    </tr>\n",
       "  </thead>\n",
       "  <tbody>\n",
       "    <tr>\n",
       "      <th>0</th>\n",
       "      <td>Country</td>\n",
       "      <td>INDIA</td>\n",
       "      <td>64.8</td>\n",
       "      <td>73.0</td>\n",
       "      <td>58.7</td>\n",
       "      <td>67.8</td>\n",
       "      <td>79.9</td>\n",
       "      <td>84.1</td>\n",
       "    </tr>\n",
       "    <tr>\n",
       "      <th>1</th>\n",
       "      <td>State</td>\n",
       "      <td>Andhra Pradesh</td>\n",
       "      <td>60.5</td>\n",
       "      <td>67.0</td>\n",
       "      <td>54.5</td>\n",
       "      <td>60.4</td>\n",
       "      <td>76.1</td>\n",
       "      <td>80.1</td>\n",
       "    </tr>\n",
       "    <tr>\n",
       "      <th>2</th>\n",
       "      <td>State</td>\n",
       "      <td>Arunachal Pradesh</td>\n",
       "      <td>54.3</td>\n",
       "      <td>65.4</td>\n",
       "      <td>47.8</td>\n",
       "      <td>59.9</td>\n",
       "      <td>78.3</td>\n",
       "      <td>82.9</td>\n",
       "    </tr>\n",
       "    <tr>\n",
       "      <th>3</th>\n",
       "      <td>State</td>\n",
       "      <td>Assam</td>\n",
       "      <td>63.3</td>\n",
       "      <td>72.2</td>\n",
       "      <td>59.7</td>\n",
       "      <td>69.3</td>\n",
       "      <td>85.3</td>\n",
       "      <td>88.5</td>\n",
       "    </tr>\n",
       "    <tr>\n",
       "      <th>4</th>\n",
       "      <td>State</td>\n",
       "      <td>Bihar</td>\n",
       "      <td>47.0</td>\n",
       "      <td>61.8</td>\n",
       "      <td>43.9</td>\n",
       "      <td>59.8</td>\n",
       "      <td>71.9</td>\n",
       "      <td>76.9</td>\n",
       "    </tr>\n",
       "  </tbody>\n",
       "</table>\n",
       "</div>"
      ],
      "text/plain": [
       "  Category Country/ States/ Union Territories Name  \\\n",
       "0  Country                                   INDIA   \n",
       "1    State                          Andhra Pradesh   \n",
       "2    State                       Arunachal Pradesh   \n",
       "3    State                                   Assam   \n",
       "4    State                                   Bihar   \n",
       "\n",
       "   Literacy Rate (Persons) - Total - 2001  \\\n",
       "0                                    64.8   \n",
       "1                                    60.5   \n",
       "2                                    54.3   \n",
       "3                                    63.3   \n",
       "4                                    47.0   \n",
       "\n",
       "   Literacy Rate (Persons) - Total - 2011  \\\n",
       "0                                    73.0   \n",
       "1                                    67.0   \n",
       "2                                    65.4   \n",
       "3                                    72.2   \n",
       "4                                    61.8   \n",
       "\n",
       "   Literacy Rate (Persons) - Rural - 2001  \\\n",
       "0                                    58.7   \n",
       "1                                    54.5   \n",
       "2                                    47.8   \n",
       "3                                    59.7   \n",
       "4                                    43.9   \n",
       "\n",
       "   Literacy Rate (Persons) - Rural - 2011  \\\n",
       "0                                    67.8   \n",
       "1                                    60.4   \n",
       "2                                    59.9   \n",
       "3                                    69.3   \n",
       "4                                    59.8   \n",
       "\n",
       "   Literacy Rate (Persons) - Urban - 2001  \\\n",
       "0                                    79.9   \n",
       "1                                    76.1   \n",
       "2                                    78.3   \n",
       "3                                    85.3   \n",
       "4                                    71.9   \n",
       "\n",
       "   Literacy Rate (Persons) - Urban - 2011  \n",
       "0                                    84.1  \n",
       "1                                    80.1  \n",
       "2                                    82.9  \n",
       "3                                    88.5  \n",
       "4                                    76.9  "
      ]
     },
     "execution_count": 9,
     "metadata": {},
     "output_type": "execute_result"
    }
   ],
   "source": [
    "# In this project we will look at literacy rates across the states of India and see what disparities \n",
    "# there are between rural and urban populations\n",
    "# First, read in the dataset and import the right libraries\n",
    "\n",
    "import numpy as np\n",
    "import pandas as pd\n",
    "import matplotlib.pyplot as plt\n",
    "literacy = pd.read_csv(\"C:\\\\Users\\\\user\\\\Desktop\\\\Data\\\\GOI.csv\")\n",
    "literacy.head()"
   ]
  },
  {
   "cell_type": "code",
   "execution_count": 10,
   "metadata": {},
   "outputs": [
    {
     "name": "stdout",
     "output_type": "stream",
     "text": [
      "<class 'pandas.core.frame.DataFrame'>\n",
      "RangeIndex: 36 entries, 0 to 35\n",
      "Data columns (total 8 columns):\n",
      " #   Column                                   Non-Null Count  Dtype  \n",
      "---  ------                                   --------------  -----  \n",
      " 0   Category                                 36 non-null     object \n",
      " 1   Country/ States/ Union Territories Name  36 non-null     object \n",
      " 2   Literacy Rate (Persons) - Total - 2001   36 non-null     float64\n",
      " 3   Literacy Rate (Persons) - Total - 2011   36 non-null     float64\n",
      " 4   Literacy Rate (Persons) - Rural - 2001   36 non-null     float64\n",
      " 5   Literacy Rate (Persons) - Rural - 2011   36 non-null     float64\n",
      " 6   Literacy Rate (Persons) - Urban - 2001   36 non-null     float64\n",
      " 7   Literacy Rate (Persons) - Urban - 2011   36 non-null     float64\n",
      "dtypes: float64(6), object(2)\n",
      "memory usage: 2.4+ KB\n"
     ]
    }
   ],
   "source": [
    "# First, we'll inspect the dataset to check for any null values\n",
    "literacy.info()"
   ]
  },
  {
   "cell_type": "code",
   "execution_count": 11,
   "metadata": {},
   "outputs": [
    {
     "data": {
      "text/html": [
       "<div>\n",
       "<style scoped>\n",
       "    .dataframe tbody tr th:only-of-type {\n",
       "        vertical-align: middle;\n",
       "    }\n",
       "\n",
       "    .dataframe tbody tr th {\n",
       "        vertical-align: top;\n",
       "    }\n",
       "\n",
       "    .dataframe thead th {\n",
       "        text-align: right;\n",
       "    }\n",
       "</style>\n",
       "<table border=\"1\" class=\"dataframe\">\n",
       "  <thead>\n",
       "    <tr style=\"text-align: right;\">\n",
       "      <th></th>\n",
       "      <th>Name</th>\n",
       "      <th>2001</th>\n",
       "      <th>2011</th>\n",
       "      <th>2001 rural</th>\n",
       "      <th>2011 rural</th>\n",
       "      <th>2001 urban</th>\n",
       "      <th>2011 urban</th>\n",
       "    </tr>\n",
       "  </thead>\n",
       "  <tbody>\n",
       "    <tr>\n",
       "      <th>0</th>\n",
       "      <td>INDIA</td>\n",
       "      <td>64.8</td>\n",
       "      <td>73.0</td>\n",
       "      <td>58.7</td>\n",
       "      <td>67.8</td>\n",
       "      <td>79.9</td>\n",
       "      <td>84.1</td>\n",
       "    </tr>\n",
       "    <tr>\n",
       "      <th>1</th>\n",
       "      <td>Andhra Pradesh</td>\n",
       "      <td>60.5</td>\n",
       "      <td>67.0</td>\n",
       "      <td>54.5</td>\n",
       "      <td>60.4</td>\n",
       "      <td>76.1</td>\n",
       "      <td>80.1</td>\n",
       "    </tr>\n",
       "    <tr>\n",
       "      <th>2</th>\n",
       "      <td>Arunachal Pradesh</td>\n",
       "      <td>54.3</td>\n",
       "      <td>65.4</td>\n",
       "      <td>47.8</td>\n",
       "      <td>59.9</td>\n",
       "      <td>78.3</td>\n",
       "      <td>82.9</td>\n",
       "    </tr>\n",
       "    <tr>\n",
       "      <th>3</th>\n",
       "      <td>Assam</td>\n",
       "      <td>63.3</td>\n",
       "      <td>72.2</td>\n",
       "      <td>59.7</td>\n",
       "      <td>69.3</td>\n",
       "      <td>85.3</td>\n",
       "      <td>88.5</td>\n",
       "    </tr>\n",
       "    <tr>\n",
       "      <th>4</th>\n",
       "      <td>Bihar</td>\n",
       "      <td>47.0</td>\n",
       "      <td>61.8</td>\n",
       "      <td>43.9</td>\n",
       "      <td>59.8</td>\n",
       "      <td>71.9</td>\n",
       "      <td>76.9</td>\n",
       "    </tr>\n",
       "  </tbody>\n",
       "</table>\n",
       "</div>"
      ],
      "text/plain": [
       "                Name  2001  2011  2001 rural  2011 rural  2001 urban  \\\n",
       "0              INDIA  64.8  73.0        58.7        67.8        79.9   \n",
       "1     Andhra Pradesh  60.5  67.0        54.5        60.4        76.1   \n",
       "2  Arunachal Pradesh  54.3  65.4        47.8        59.9        78.3   \n",
       "3              Assam  63.3  72.2        59.7        69.3        85.3   \n",
       "4              Bihar  47.0  61.8        43.9        59.8        71.9   \n",
       "\n",
       "   2011 urban  \n",
       "0        84.1  \n",
       "1        80.1  \n",
       "2        82.9  \n",
       "3        88.5  \n",
       "4        76.9  "
      ]
     },
     "execution_count": 11,
     "metadata": {},
     "output_type": "execute_result"
    }
   ],
   "source": [
    "# So, we have 36 rows, one for each state or territory plus one for India itself. There are no null\n",
    "# values, making this a nice dataset to work with.\n",
    "\n",
    "# The columns show the literacy rates in 2001 and 2011, broken down by rural and urban population\n",
    "# Let's first see which states have seen the biggest increase in literacy rate. We'll also rename our columns\n",
    "# to give them heading that are easier to work with.\n",
    "literacy.columns = [\"Category\", \"Name\", \"2001\", \"2011\", \"2001 rural\", \"2011 rural\", \"2001 urban\", \"2011 urban\"]\n",
    "literacy.drop([\"Category\"], axis=1, inplace=True) # We don't need the category column\n",
    "literacy.head()"
   ]
  },
  {
   "cell_type": "code",
   "execution_count": 12,
   "metadata": {},
   "outputs": [
    {
     "name": "stdout",
     "output_type": "stream",
     "text": [
      "Most improved: 18.6\n",
      "Least improved: 2.5\n",
      "Average improvement 8.27777777777778\n"
     ]
    }
   ],
   "source": [
    "literacy[\"Change\"] = literacy[\"2011\"] - literacy[\"2001\"]\n",
    "print(\"Most improved:\", literacy[\"Change\"].max())\n",
    "print(\"Least improved:\", literacy[\"Change\"].min())\n",
    "print(\"Average improvement\", literacy[\"Change\"].mean())\n"
   ]
  },
  {
   "cell_type": "code",
   "execution_count": 13,
   "metadata": {},
   "outputs": [
    {
     "name": "stdout",
     "output_type": "stream",
     "text": [
      "            Name  2001  2011  2001 rural  2011 rural  2001 urban  2011 urban  \\\n",
      "31  D & N Haveli  57.6  76.2        49.3        64.1        84.4        89.8   \n",
      "\n",
      "    Change  \n",
      "31    18.6  \n",
      "       Name  2001  2011  2001 rural  2011 rural  2001 urban  2011 urban  \\\n",
      "18  Mizoram  88.8  91.3        81.3        84.1        96.1        97.6   \n",
      "\n",
      "    Change  \n",
      "18     2.5  \n"
     ]
    }
   ],
   "source": [
    "# The biggest jump is 18.6, and the smallest 2.5. Let's see which states these were:\n",
    "print(literacy[literacy[\"Change\"] == 18.6])\n",
    "print(literacy[literacy[\"Change\"] == 2.5])"
   ]
  },
  {
   "cell_type": "code",
   "execution_count": 18,
   "metadata": {},
   "outputs": [
    {
     "name": "stdout",
     "output_type": "stream",
     "text": [
      "Top 5 average rural/urban change: 14.76 / 4.559999999999997\n",
      "Bottom 5 average rural/urban change: 4.160000000000002 / 3.0199999999999987\n"
     ]
    }
   ],
   "source": [
    "# So, D&N Haveli has seen the biggest jump, and Mizoram the least.\n",
    "\n",
    "# If we group together the most and least improved, can we see where the improvements come from?\n",
    "literacy.sort_values(by=[\"Change\"], ascending=False, inplace=True)\n",
    "literacy[\"Rural Change\"] = literacy[\"2011 rural\"] - literacy[\"2001 rural\"]\n",
    "literacy[\"Urban Change\"] = literacy[\"2011 urban\"] - literacy[\"2001 urban\"]\n",
    "top_5 = literacy[:5]\n",
    "bottom_5 = literacy[-5:]\n",
    "print(\"Top 5 average rural/urban change:\", top_5[\"Rural Change\"].mean(), \"/\", top_5[\"Urban Change\"].mean())\n",
    "print(\"Bottom 5 average rural/urban change:\", bottom_5[\"Rural Change\"].mean(), \"/\", bottom_5[\"Urban Change\"].mean())\n",
    "\n"
   ]
  },
  {
   "cell_type": "code",
   "execution_count": 20,
   "metadata": {},
   "outputs": [
    {
     "name": "stdout",
     "output_type": "stream",
     "text": [
      "    Name  2001  2011  2001 rural  2011 rural  2001 urban  2011 urban  Change  \\\n",
      "0  INDIA  64.8  73.0        58.7        67.8        79.9        84.1     8.2   \n",
      "\n",
      "   Rural Change  Urban Change  \n",
      "0           9.1           4.2  \n"
     ]
    }
   ],
   "source": [
    "# So, we can see that for those states that have increased their literacy rates the most, this has\n",
    "# come through improvements in rural areas, where we can suppose the literacy rate tends to be lower\n",
    "# We can easily check this:\n",
    "print(literacy[literacy[\"Name\"] == \"INDIA\"])\n"
   ]
  },
  {
   "cell_type": "code",
   "execution_count": null,
   "metadata": {},
   "outputs": [],
   "source": [
    "# Here we see that overall literacy has increased in India, but that rural literacy are generally lower\n",
    "# than those in cities\n",
    "# The big improvement across the country has come in rural areas, where there is more ground to make up"
   ]
  }
 ],
 "metadata": {
  "kernelspec": {
   "display_name": "Python 3",
   "language": "python",
   "name": "python3"
  },
  "language_info": {
   "codemirror_mode": {
    "name": "ipython",
    "version": 3
   },
   "file_extension": ".py",
   "mimetype": "text/x-python",
   "name": "python",
   "nbconvert_exporter": "python",
   "pygments_lexer": "ipython3",
   "version": "3.7.1"
  }
 },
 "nbformat": 4,
 "nbformat_minor": 4
}
